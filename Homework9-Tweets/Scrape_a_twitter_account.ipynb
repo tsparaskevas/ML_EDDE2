{
  "nbformat": 4,
  "nbformat_minor": 0,
  "metadata": {
    "colab": {
      "name": "Scrape_a_twitter_account.ipynb",
      "provenance": [],
      "authorship_tag": "ABX9TyNxcow5ZbrLXqoPKCY0tluw",
      "include_colab_link": true
    },
    "kernelspec": {
      "name": "python3",
      "display_name": "Python 3"
    },
    "language_info": {
      "name": "python"
    }
  },
  "cells": [
    {
      "cell_type": "markdown",
      "metadata": {
        "id": "view-in-github",
        "colab_type": "text"
      },
      "source": [
        "<a href=\"https://colab.research.google.com/github/tsparaskevas/ML_EDDE2/blob/main/Homework9-Tweets/Scrape_a_twitter_account.ipynb\" target=\"_parent\"><img src=\"https://colab.research.google.com/assets/colab-badge.svg\" alt=\"Open In Colab\"/></a>"
      ]
    },
    {
      "cell_type": "code",
      "execution_count": 1,
      "metadata": {
        "id": "1wokRyu0a62I"
      },
      "outputs": [],
      "source": [
        "#!pip install Twython\n"
      ]
    },
    {
      "cell_type": "markdown",
      "source": [
        "###**ENTER CUSTOM VALUES**"
      ],
      "metadata": {
        "id": "BgL8cAQEdJP7"
      }
    },
    {
      "cell_type": "markdown",
      "source": [
        "**Μεταβλητές που ΠΡΕΠΕΙ να συμπληρώνοται πάντα στην αρχή**"
      ],
      "metadata": {
        "id": "ZzqA609hoz9Z"
      }
    },
    {
      "cell_type": "code",
      "source": [
        "# 1. Person's/Organizations real name (str)\n",
        "real_name = input(\"Enter twitter's user real name: \")\n",
        "print(f\"Actual name is: {real_name}\")\n",
        "\n",
        "# 2. Person's/Organizations twitter account name (str)\n",
        "twitter_account = input(\"Enter twitter's user twitter_account name: \")\n",
        "print(f\"Twiter account name is: {twitter_account}\")"
      ],
      "metadata": {
        "id": "_-qjBXdFpHWg",
        "colab": {
          "base_uri": "https://localhost:8080/"
        },
        "outputId": "4f3b1d3a-7008-4bde-b139-4155839d502d"
      },
      "execution_count": 2,
      "outputs": [
        {
          "output_type": "stream",
          "name": "stdout",
          "text": [
            "Enter twitter's user real name: Σύριζα\n",
            "Actual name is: Σύριζα\n",
            "Enter twitter's user twitter_account name: syriza_gr\n",
            "Twiter account name is: syriza_gr\n"
          ]
        }
      ]
    },
    {
      "cell_type": "code",
      "source": [
        "# 2. Twitter My credentials\n",
        "CONSUMER_KEY = \"Uv3Ccd0oSCf9LgawJx12EAqYl\"\n",
        "CONSUMER_SECRET = \"NdsEcNJvTIhBVD8ApxthiidqxuY8MdKzmzPyb1tLdWCSDvLhW4\"\n",
        "OAUTH_TOKEN = \"469275739-tpD9kkY4CCl2r8IZ2CimxNuF9DiEGtdb0fKwWLBK\"\n",
        "OAUTH_TOKEN_SECRET = \"3Fx1ECS8mv4feMg6vfHsnFTGE5ExV845QHLPIgHuZOKF4\""
      ],
      "metadata": {
        "id": "YuvzHMke1VtG"
      },
      "execution_count": 3,
      "outputs": []
    },
    {
      "cell_type": "markdown",
      "source": [
        "###**Import Libraries**"
      ],
      "metadata": {
        "id": "KXavTUeXc_ui"
      }
    },
    {
      "cell_type": "code",
      "source": [
        "from twython import Twython\n",
        "\n",
        "import pandas as pd\n",
        "import numpy as np \n",
        "\n",
        "from datetime import date\n",
        "\n",
        "import os\n",
        "from pathlib import Path\n",
        "\n",
        "from google.colab import drive \n",
        "drive.mount('gdrive', force_remount=True) "
      ],
      "metadata": {
        "colab": {
          "base_uri": "https://localhost:8080/"
        },
        "id": "GK2AxB7Ca_va",
        "outputId": "f80e4262-7f28-40e0-dd75-0418a3c7984b"
      },
      "execution_count": 4,
      "outputs": [
        {
          "output_type": "stream",
          "name": "stdout",
          "text": [
            "Mounted at gdrive\n"
          ]
        }
      ]
    },
    {
      "cell_type": "markdown",
      "source": [
        "###**Prepare**"
      ],
      "metadata": {
        "id": "Y6wVrcu_prp7"
      }
    },
    {
      "cell_type": "markdown",
      "source": [
        "**Auto calculate Variables**"
      ],
      "metadata": {
        "id": "FtedWXV6kkup"
      }
    },
    {
      "cell_type": "code",
      "source": [
        "# ΗΜΕΡΟΜΗΝΙΑ scraping\n",
        "scrape_date = str(date.today())\n",
        "\n",
        "# CSV NAMES and PATHS\n",
        "main_drive_path = \"gdrive/MyDrive/Colab Notebooks/Scraping/tweets/CSVs/\"\n",
        "twitter_folder = real_name\n",
        "twitter_path = main_drive_path + twitter_folder\n",
        "\n",
        "tsv_tweets_name = twitter_account + \"_tweets_\" + scrape_date + \".tsv\"\n",
        "tsv_tweets_path_and_name = twitter_path + '/' + tsv_tweets_name\n",
        "\n",
        "tsv_tweets_all_name = twitter_account + \"_tweets_all.tsv\"\n",
        "tsv_tweets_all_path_and_name = twitter_path + '/' + tsv_tweets_all_name"
      ],
      "metadata": {
        "id": "JwpwdKJ9oqCE"
      },
      "execution_count": 5,
      "outputs": []
    },
    {
      "cell_type": "markdown",
      "source": [
        "**Create twitter folder if NOT exists**"
      ],
      "metadata": {
        "id": "54Tysi57XbhY"
      }
    },
    {
      "cell_type": "code",
      "source": [
        "# IF twitter's folder NOT EXISTS -> Create twitter's folder\n",
        "if not os.path.exists(twitter_path):\n",
        "  os.makedirs(twitter_path)\n",
        "  print(f\"'{twitter_folder}' folder is created\")\n",
        "else:\n",
        "  print(f\"'{twitter_folder}' folder already exists\")"
      ],
      "metadata": {
        "colab": {
          "base_uri": "https://localhost:8080/"
        },
        "id": "4bhPislI_OHD",
        "outputId": "57bf8b3c-fe4b-4d3b-b7a8-d8ed0df1f561"
      },
      "execution_count": 6,
      "outputs": [
        {
          "output_type": "stream",
          "name": "stdout",
          "text": [
            "'Σύριζα' folder is created\n"
          ]
        }
      ]
    },
    {
      "cell_type": "markdown",
      "source": [
        "**Import csvs**"
      ],
      "metadata": {
        "id": "sKM-TwqqXzfQ"
      }
    },
    {
      "cell_type": "code",
      "source": [
        "# Import twitter's account all tweets csv\n",
        "if os.path.exists(tsv_tweets_all_path_and_name):\n",
        "  tweets_all_df = pd.read_csv(tsv_tweets_all_path_and_name, sep='\\t')\n",
        "  print(f'\"{tsv_tweets_all_name}\" is imported as \"tweets_all_df\"')\n",
        "else:\n",
        "  print(f'\"{tsv_tweets_all_name}\" doesn\\'t exist yet')"
      ],
      "metadata": {
        "colab": {
          "base_uri": "https://localhost:8080/"
        },
        "id": "5bogRMqQTAVd",
        "outputId": "727bf931-de60-4917-8159-06f11c05bd95"
      },
      "execution_count": 7,
      "outputs": [
        {
          "output_type": "stream",
          "name": "stdout",
          "text": [
            "\"syriza_gr_tweets_all.tsv\" doesn't exist yet\n"
          ]
        }
      ]
    },
    {
      "cell_type": "markdown",
      "source": [
        "###**Execute**"
      ],
      "metadata": {
        "id": "4HVlSvU6rrIM"
      }
    },
    {
      "cell_type": "code",
      "source": [
        "# Make twitter object with My Credentials\n",
        "twitter = Twython(\n",
        "    CONSUMER_KEY, CONSUMER_SECRET,\n",
        "    OAUTH_TOKEN, OAUTH_TOKEN_SECRET)"
      ],
      "metadata": {
        "id": "Q1kAE8YmbKnW"
      },
      "execution_count": 8,
      "outputs": []
    },
    {
      "cell_type": "code",
      "source": [
        "# Get first 100 tweets\n",
        "tweetsL = []\n",
        "try:\n",
        "    user_timeline = twitter.get_user_timeline(screen_name=twitter_account,count=100, tweet_mode = 'extended'  )\n",
        "except TwythonError as e:\n",
        "    print(\"Error getting tweets:\", e)\n",
        "print(\"I Got:\", len(user_timeline), \" tweets\")\n",
        "for tweet in user_timeline:\n",
        "    # Add whatever you want from the tweet, here we just add the text\n",
        "    tweetsL.append(tweet)"
      ],
      "metadata": {
        "colab": {
          "base_uri": "https://localhost:8080/"
        },
        "id": "t8wv4yJJkZ8h",
        "outputId": "1d17ed01-2469-4eed-ec8f-ee4f603c8e9f"
      },
      "execution_count": 9,
      "outputs": [
        {
          "output_type": "stream",
          "name": "stdout",
          "text": [
            "I Got: 100  tweets\n"
          ]
        }
      ]
    },
    {
      "cell_type": "code",
      "source": [
        "# Get more 100s of tweets\n",
        "\n",
        "# Count could be less than 200, see:\n",
        "# https://dev.twitter.com/discussions/7513\n",
        "while len(user_timeline) != 0: \n",
        "    try:\n",
        "        user_timeline = twitter.get_user_timeline(screen_name=twitter_account, count=100,\n",
        "                                                  tweet_mode = 'extended', max_id=user_timeline[len(user_timeline)-1]['id']-1)\n",
        "    except TwythonError as e:\n",
        "        print(\"Error getting tweets:\", e)\n",
        "    if len(user_timeline) > 0:\n",
        "        print(\"I Got:\", len(user_timeline), \" tweets more... Last ID:\", user_timeline[len(user_timeline)-1]['id']-1)\n",
        "    for tweet in user_timeline:\n",
        "        # Add whatever you want from the tweet, here we just add the text\n",
        "        tweetsL.append(tweet)\n",
        "# Number of tweets the user has made\n",
        "print(\"I got :\", len(tweetsL), \" in total!!!\")"
      ],
      "metadata": {
        "colab": {
          "base_uri": "https://localhost:8080/"
        },
        "id": "RPHRHDjZbXx3",
        "outputId": "ae2cedd0-2ccd-4998-9668-81a4fbfb14f0"
      },
      "execution_count": 10,
      "outputs": [
        {
          "output_type": "stream",
          "name": "stdout",
          "text": [
            "I Got: 100  tweets more... Last ID: 1519639970457210881\n",
            "I Got: 100  tweets more... Last ID: 1514658369059049475\n",
            "I Got: 100  tweets more... Last ID: 1508427614997958661\n",
            "I Got: 100  tweets more... Last ID: 1502323279096332293\n",
            "I Got: 100  tweets more... Last ID: 1495478192139911167\n",
            "I Got: 100  tweets more... Last ID: 1488471327862362113\n",
            "I Got: 100  tweets more... Last ID: 1482727848083349503\n",
            "I Got: 100  tweets more... Last ID: 1473315998702919679\n",
            "I Got: 100  tweets more... Last ID: 1466711260989468671\n",
            "I Got: 100  tweets more... Last ID: 1460929245656530946\n",
            "I Got: 100  tweets more... Last ID: 1453694362911526912\n",
            "I Got: 100  tweets more... Last ID: 1447107725373157377\n",
            "I Got: 100  tweets more... Last ID: 1439535599300530182\n",
            "I Got: 100  tweets more... Last ID: 1431986684669931524\n",
            "I Got: 100  tweets more... Last ID: 1421016766973685759\n",
            "I Got: 100  tweets more... Last ID: 1413770636846108673\n",
            "I Got: 100  tweets more... Last ID: 1405466326034960385\n",
            "I Got: 100  tweets more... Last ID: 1397896810291777536\n",
            "I Got: 100  tweets more... Last ID: 1392521891471048703\n",
            "I Got: 100  tweets more... Last ID: 1385690502222200836\n",
            "I Got: 100  tweets more... Last ID: 1379820411580469254\n",
            "I Got: 100  tweets more... Last ID: 1374392302064431105\n",
            "I Got: 100  tweets more... Last ID: 1368661841816195075\n",
            "I Got: 100  tweets more... Last ID: 1363772575705427970\n",
            "I Got: 100  tweets more... Last ID: 1359061506382512131\n",
            "I Got: 100  tweets more... Last ID: 1351561622133862407\n",
            "I Got: 100  tweets more... Last ID: 1341749281733169151\n",
            "I Got: 100  tweets more... Last ID: 1336704420134981635\n",
            "I Got: 100  tweets more... Last ID: 1331613951902306303\n",
            "I Got: 100  tweets more... Last ID: 1326230392383352834\n",
            "I Got: 100  tweets more... Last ID: 1321513414607425535\n",
            "I Got: 50  tweets more... Last ID: 1319243500936941569\n",
            "I got : 3250  in total!!!\n"
          ]
        }
      ]
    },
    {
      "cell_type": "code",
      "source": [
        "tweetsL[22]['full_text']"
      ],
      "metadata": {
        "colab": {
          "base_uri": "https://localhost:8080/",
          "height": 35
        },
        "id": "SP4mKV7AUdMc",
        "outputId": "888910d5-0751-43fc-a45e-8d08f9d70600"
      },
      "execution_count": 11,
      "outputs": [
        {
          "output_type": "execute_result",
          "data": {
            "text/plain": [
              "'RT @n_iliopoulos: Δύο \"αόρατες\" ειδήσεις. Όριο για απευθείας αναθέσεις 5 εκ. από την κυβέρνηση Μητσοτάκη. Παρακολούθηση δημοσιογράφων και π…'"
            ],
            "application/vnd.google.colaboratory.intrinsic+json": {
              "type": "string"
            }
          },
          "metadata": {},
          "execution_count": 11
        }
      ]
    },
    {
      "cell_type": "code",
      "source": [
        "# Create dataframe\n",
        "tweets_df = pd.DataFrame(tweetsL)\n",
        "# Conditional saving csv\n",
        "if not os.path.exists(tsv_tweets_all_path_and_name): # if twitter account is being scrapped for the first time\n",
        "  tweets_df.to_csv(tsv_tweets_all_path_and_name, sep='\\t', index=False)\n",
        "else:                                                 # if twitter account has been scrapped again in the past\n",
        "  tweets_all_df = tweets_all_df.append(tweets_df, ignore_index=True)\n",
        "  tweets_all_df.drop_duplicates(subset=['id'], inplace=True, ignore_index=True)\n",
        "  #tweets_all_df.sort_values('created_at', ascending=False, inplace=True, ignore_index=True)\n",
        "  tweets_all_df.to_csv(tsv_tweets_all_path_and_name, sep='\\t', index=False)"
      ],
      "metadata": {
        "id": "eyBqAhai1HXT"
      },
      "execution_count": 12,
      "outputs": []
    },
    {
      "cell_type": "markdown",
      "source": [
        "###**Check completion**"
      ],
      "metadata": {
        "id": "_IaZNdDqu83R"
      }
    },
    {
      "cell_type": "code",
      "source": [
        "tweets_all_df = pd.read_csv(tsv_tweets_all_path_and_name, sep='\\t') # Import tweets_all as dataframe"
      ],
      "metadata": {
        "id": "A6NgrEHNTeEa"
      },
      "execution_count": 13,
      "outputs": []
    },
    {
      "cell_type": "code",
      "source": [
        "# preview first 5 rows of the df\n",
        "tweets_all_df.head()"
      ],
      "metadata": {
        "colab": {
          "base_uri": "https://localhost:8080/",
          "height": 595
        },
        "id": "H8fFej0LlNpZ",
        "outputId": "2ac85f83-a957-4d55-f233-2558b7124193"
      },
      "execution_count": 14,
      "outputs": [
        {
          "output_type": "execute_result",
          "data": {
            "text/plain": [
              "                       created_at                   id               id_str  \\\n",
              "0  Fri May 27 18:39:32 +0000 2022  1530257413470928901  1530257413470928901   \n",
              "1  Fri May 27 17:09:56 +0000 2022  1530234864825663488  1530234864825663488   \n",
              "2  Fri May 27 17:06:14 +0000 2022  1530233930699390978  1530233930699390978   \n",
              "3  Fri May 27 12:39:44 +0000 2022  1530166865041170432  1530166865041170432   \n",
              "4  Fri May 27 08:02:16 +0000 2022  1530097037412270080  1530097037412270080   \n",
              "\n",
              "                                           full_text  truncated  \\\n",
              "0  RT @n_iliopoulos: Στις δημοτικές εκλογές στο θ...      False   \n",
              "1  .@atsipras: Αν κάποιος δεν πιστεύει στην αναγκ...      False   \n",
              "2  RT @atsipras: Το μεγάλο δίλημμα που έχει αυτή ...      False   \n",
              "3  Το δίλημμα κ. Μητσοτάκη είναι αν ο κόσμος θα β...      False   \n",
              "4  .@n_iliopoulos: Η κυβέρνηση να σταματήσει εδώ ...      False   \n",
              "\n",
              "  display_text_range                                           entities  \\\n",
              "0           [0, 140]  {'hashtags': [], 'symbols': [], 'user_mentions...   \n",
              "1           [0, 160]  {'hashtags': [], 'symbols': [], 'user_mentions...   \n",
              "2           [0, 140]  {'hashtags': [], 'symbols': [], 'user_mentions...   \n",
              "3           [0, 222]  {'hashtags': [], 'symbols': [], 'user_mentions...   \n",
              "4           [0, 257]  {'hashtags': [], 'symbols': [], 'user_mentions...   \n",
              "\n",
              "                                              source  in_reply_to_status_id  \\\n",
              "0  <a href=\"http://twitter.com/download/android\" ...                    NaN   \n",
              "1  <a href=\"http://twitter.com/download/android\" ...                    NaN   \n",
              "2  <a href=\"http://twitter.com/download/android\" ...                    NaN   \n",
              "3  <a href=\"http://twitter.com/download/iphone\" r...                    NaN   \n",
              "4  <a href=\"http://twitter.com/download/iphone\" r...                    NaN   \n",
              "\n",
              "   in_reply_to_status_id_str  ...  quoted_status_id_str  \\\n",
              "0                        NaN  ...          1.530188e+18   \n",
              "1                        NaN  ...                   NaN   \n",
              "2                        NaN  ...                   NaN   \n",
              "3                        NaN  ...                   NaN   \n",
              "4                        NaN  ...                   NaN   \n",
              "\n",
              "                             quoted_status_permalink retweet_count  \\\n",
              "0  {'url': 'https://t.co/rJ4jrBPIQk', 'expanded':...            29   \n",
              "1                                                NaN            41   \n",
              "2                                                NaN           340   \n",
              "3                                                NaN            37   \n",
              "4                                                NaN            32   \n",
              "\n",
              "  favorite_count  favorited  retweeted  lang  \\\n",
              "0              0      False      False    el   \n",
              "1            139      False      False    el   \n",
              "2              0      False      False    el   \n",
              "3            118      False      False    el   \n",
              "4             75      False      False    el   \n",
              "\n",
              "                                   extended_entities possibly_sensitive  \\\n",
              "0                                                NaN                NaN   \n",
              "1  {'media': [{'id': 1530234862321418240, 'id_str...              False   \n",
              "2                                                NaN                NaN   \n",
              "3  {'media': [{'id': 1530166848888655872, 'id_str...              False   \n",
              "4  {'media': [{'id': 1530097030407897089, 'id_str...              False   \n",
              "\n",
              "   quoted_status  \n",
              "0            NaN  \n",
              "1            NaN  \n",
              "2            NaN  \n",
              "3            NaN  \n",
              "4            NaN  \n",
              "\n",
              "[5 rows x 31 columns]"
            ],
            "text/html": [
              "\n",
              "  <div id=\"df-81e8ce41-1c53-45ca-9a14-29a0c97442c8\">\n",
              "    <div class=\"colab-df-container\">\n",
              "      <div>\n",
              "<style scoped>\n",
              "    .dataframe tbody tr th:only-of-type {\n",
              "        vertical-align: middle;\n",
              "    }\n",
              "\n",
              "    .dataframe tbody tr th {\n",
              "        vertical-align: top;\n",
              "    }\n",
              "\n",
              "    .dataframe thead th {\n",
              "        text-align: right;\n",
              "    }\n",
              "</style>\n",
              "<table border=\"1\" class=\"dataframe\">\n",
              "  <thead>\n",
              "    <tr style=\"text-align: right;\">\n",
              "      <th></th>\n",
              "      <th>created_at</th>\n",
              "      <th>id</th>\n",
              "      <th>id_str</th>\n",
              "      <th>full_text</th>\n",
              "      <th>truncated</th>\n",
              "      <th>display_text_range</th>\n",
              "      <th>entities</th>\n",
              "      <th>source</th>\n",
              "      <th>in_reply_to_status_id</th>\n",
              "      <th>in_reply_to_status_id_str</th>\n",
              "      <th>...</th>\n",
              "      <th>quoted_status_id_str</th>\n",
              "      <th>quoted_status_permalink</th>\n",
              "      <th>retweet_count</th>\n",
              "      <th>favorite_count</th>\n",
              "      <th>favorited</th>\n",
              "      <th>retweeted</th>\n",
              "      <th>lang</th>\n",
              "      <th>extended_entities</th>\n",
              "      <th>possibly_sensitive</th>\n",
              "      <th>quoted_status</th>\n",
              "    </tr>\n",
              "  </thead>\n",
              "  <tbody>\n",
              "    <tr>\n",
              "      <th>0</th>\n",
              "      <td>Fri May 27 18:39:32 +0000 2022</td>\n",
              "      <td>1530257413470928901</td>\n",
              "      <td>1530257413470928901</td>\n",
              "      <td>RT @n_iliopoulos: Στις δημοτικές εκλογές στο θ...</td>\n",
              "      <td>False</td>\n",
              "      <td>[0, 140]</td>\n",
              "      <td>{'hashtags': [], 'symbols': [], 'user_mentions...</td>\n",
              "      <td>&lt;a href=\"http://twitter.com/download/android\" ...</td>\n",
              "      <td>NaN</td>\n",
              "      <td>NaN</td>\n",
              "      <td>...</td>\n",
              "      <td>1.530188e+18</td>\n",
              "      <td>{'url': 'https://t.co/rJ4jrBPIQk', 'expanded':...</td>\n",
              "      <td>29</td>\n",
              "      <td>0</td>\n",
              "      <td>False</td>\n",
              "      <td>False</td>\n",
              "      <td>el</td>\n",
              "      <td>NaN</td>\n",
              "      <td>NaN</td>\n",
              "      <td>NaN</td>\n",
              "    </tr>\n",
              "    <tr>\n",
              "      <th>1</th>\n",
              "      <td>Fri May 27 17:09:56 +0000 2022</td>\n",
              "      <td>1530234864825663488</td>\n",
              "      <td>1530234864825663488</td>\n",
              "      <td>.@atsipras: Αν κάποιος δεν πιστεύει στην αναγκ...</td>\n",
              "      <td>False</td>\n",
              "      <td>[0, 160]</td>\n",
              "      <td>{'hashtags': [], 'symbols': [], 'user_mentions...</td>\n",
              "      <td>&lt;a href=\"http://twitter.com/download/android\" ...</td>\n",
              "      <td>NaN</td>\n",
              "      <td>NaN</td>\n",
              "      <td>...</td>\n",
              "      <td>NaN</td>\n",
              "      <td>NaN</td>\n",
              "      <td>41</td>\n",
              "      <td>139</td>\n",
              "      <td>False</td>\n",
              "      <td>False</td>\n",
              "      <td>el</td>\n",
              "      <td>{'media': [{'id': 1530234862321418240, 'id_str...</td>\n",
              "      <td>False</td>\n",
              "      <td>NaN</td>\n",
              "    </tr>\n",
              "    <tr>\n",
              "      <th>2</th>\n",
              "      <td>Fri May 27 17:06:14 +0000 2022</td>\n",
              "      <td>1530233930699390978</td>\n",
              "      <td>1530233930699390978</td>\n",
              "      <td>RT @atsipras: Το μεγάλο δίλημμα που έχει αυτή ...</td>\n",
              "      <td>False</td>\n",
              "      <td>[0, 140]</td>\n",
              "      <td>{'hashtags': [], 'symbols': [], 'user_mentions...</td>\n",
              "      <td>&lt;a href=\"http://twitter.com/download/android\" ...</td>\n",
              "      <td>NaN</td>\n",
              "      <td>NaN</td>\n",
              "      <td>...</td>\n",
              "      <td>NaN</td>\n",
              "      <td>NaN</td>\n",
              "      <td>340</td>\n",
              "      <td>0</td>\n",
              "      <td>False</td>\n",
              "      <td>False</td>\n",
              "      <td>el</td>\n",
              "      <td>NaN</td>\n",
              "      <td>NaN</td>\n",
              "      <td>NaN</td>\n",
              "    </tr>\n",
              "    <tr>\n",
              "      <th>3</th>\n",
              "      <td>Fri May 27 12:39:44 +0000 2022</td>\n",
              "      <td>1530166865041170432</td>\n",
              "      <td>1530166865041170432</td>\n",
              "      <td>Το δίλημμα κ. Μητσοτάκη είναι αν ο κόσμος θα β...</td>\n",
              "      <td>False</td>\n",
              "      <td>[0, 222]</td>\n",
              "      <td>{'hashtags': [], 'symbols': [], 'user_mentions...</td>\n",
              "      <td>&lt;a href=\"http://twitter.com/download/iphone\" r...</td>\n",
              "      <td>NaN</td>\n",
              "      <td>NaN</td>\n",
              "      <td>...</td>\n",
              "      <td>NaN</td>\n",
              "      <td>NaN</td>\n",
              "      <td>37</td>\n",
              "      <td>118</td>\n",
              "      <td>False</td>\n",
              "      <td>False</td>\n",
              "      <td>el</td>\n",
              "      <td>{'media': [{'id': 1530166848888655872, 'id_str...</td>\n",
              "      <td>False</td>\n",
              "      <td>NaN</td>\n",
              "    </tr>\n",
              "    <tr>\n",
              "      <th>4</th>\n",
              "      <td>Fri May 27 08:02:16 +0000 2022</td>\n",
              "      <td>1530097037412270080</td>\n",
              "      <td>1530097037412270080</td>\n",
              "      <td>.@n_iliopoulos: Η κυβέρνηση να σταματήσει εδώ ...</td>\n",
              "      <td>False</td>\n",
              "      <td>[0, 257]</td>\n",
              "      <td>{'hashtags': [], 'symbols': [], 'user_mentions...</td>\n",
              "      <td>&lt;a href=\"http://twitter.com/download/iphone\" r...</td>\n",
              "      <td>NaN</td>\n",
              "      <td>NaN</td>\n",
              "      <td>...</td>\n",
              "      <td>NaN</td>\n",
              "      <td>NaN</td>\n",
              "      <td>32</td>\n",
              "      <td>75</td>\n",
              "      <td>False</td>\n",
              "      <td>False</td>\n",
              "      <td>el</td>\n",
              "      <td>{'media': [{'id': 1530097030407897089, 'id_str...</td>\n",
              "      <td>False</td>\n",
              "      <td>NaN</td>\n",
              "    </tr>\n",
              "  </tbody>\n",
              "</table>\n",
              "<p>5 rows × 31 columns</p>\n",
              "</div>\n",
              "      <button class=\"colab-df-convert\" onclick=\"convertToInteractive('df-81e8ce41-1c53-45ca-9a14-29a0c97442c8')\"\n",
              "              title=\"Convert this dataframe to an interactive table.\"\n",
              "              style=\"display:none;\">\n",
              "        \n",
              "  <svg xmlns=\"http://www.w3.org/2000/svg\" height=\"24px\"viewBox=\"0 0 24 24\"\n",
              "       width=\"24px\">\n",
              "    <path d=\"M0 0h24v24H0V0z\" fill=\"none\"/>\n",
              "    <path d=\"M18.56 5.44l.94 2.06.94-2.06 2.06-.94-2.06-.94-.94-2.06-.94 2.06-2.06.94zm-11 1L8.5 8.5l.94-2.06 2.06-.94-2.06-.94L8.5 2.5l-.94 2.06-2.06.94zm10 10l.94 2.06.94-2.06 2.06-.94-2.06-.94-.94-2.06-.94 2.06-2.06.94z\"/><path d=\"M17.41 7.96l-1.37-1.37c-.4-.4-.92-.59-1.43-.59-.52 0-1.04.2-1.43.59L10.3 9.45l-7.72 7.72c-.78.78-.78 2.05 0 2.83L4 21.41c.39.39.9.59 1.41.59.51 0 1.02-.2 1.41-.59l7.78-7.78 2.81-2.81c.8-.78.8-2.07 0-2.86zM5.41 20L4 18.59l7.72-7.72 1.47 1.35L5.41 20z\"/>\n",
              "  </svg>\n",
              "      </button>\n",
              "      \n",
              "  <style>\n",
              "    .colab-df-container {\n",
              "      display:flex;\n",
              "      flex-wrap:wrap;\n",
              "      gap: 12px;\n",
              "    }\n",
              "\n",
              "    .colab-df-convert {\n",
              "      background-color: #E8F0FE;\n",
              "      border: none;\n",
              "      border-radius: 50%;\n",
              "      cursor: pointer;\n",
              "      display: none;\n",
              "      fill: #1967D2;\n",
              "      height: 32px;\n",
              "      padding: 0 0 0 0;\n",
              "      width: 32px;\n",
              "    }\n",
              "\n",
              "    .colab-df-convert:hover {\n",
              "      background-color: #E2EBFA;\n",
              "      box-shadow: 0px 1px 2px rgba(60, 64, 67, 0.3), 0px 1px 3px 1px rgba(60, 64, 67, 0.15);\n",
              "      fill: #174EA6;\n",
              "    }\n",
              "\n",
              "    [theme=dark] .colab-df-convert {\n",
              "      background-color: #3B4455;\n",
              "      fill: #D2E3FC;\n",
              "    }\n",
              "\n",
              "    [theme=dark] .colab-df-convert:hover {\n",
              "      background-color: #434B5C;\n",
              "      box-shadow: 0px 1px 3px 1px rgba(0, 0, 0, 0.15);\n",
              "      filter: drop-shadow(0px 1px 2px rgba(0, 0, 0, 0.3));\n",
              "      fill: #FFFFFF;\n",
              "    }\n",
              "  </style>\n",
              "\n",
              "      <script>\n",
              "        const buttonEl =\n",
              "          document.querySelector('#df-81e8ce41-1c53-45ca-9a14-29a0c97442c8 button.colab-df-convert');\n",
              "        buttonEl.style.display =\n",
              "          google.colab.kernel.accessAllowed ? 'block' : 'none';\n",
              "\n",
              "        async function convertToInteractive(key) {\n",
              "          const element = document.querySelector('#df-81e8ce41-1c53-45ca-9a14-29a0c97442c8');\n",
              "          const dataTable =\n",
              "            await google.colab.kernel.invokeFunction('convertToInteractive',\n",
              "                                                     [key], {});\n",
              "          if (!dataTable) return;\n",
              "\n",
              "          const docLinkHtml = 'Like what you see? Visit the ' +\n",
              "            '<a target=\"_blank\" href=https://colab.research.google.com/notebooks/data_table.ipynb>data table notebook</a>'\n",
              "            + ' to learn more about interactive tables.';\n",
              "          element.innerHTML = '';\n",
              "          dataTable['output_type'] = 'display_data';\n",
              "          await google.colab.output.renderOutput(dataTable, element);\n",
              "          const docLink = document.createElement('div');\n",
              "          docLink.innerHTML = docLinkHtml;\n",
              "          element.appendChild(docLink);\n",
              "        }\n",
              "      </script>\n",
              "    </div>\n",
              "  </div>\n",
              "  "
            ]
          },
          "metadata": {},
          "execution_count": 14
        }
      ]
    },
    {
      "cell_type": "code",
      "source": [
        "tweets_all_df.shape"
      ],
      "metadata": {
        "colab": {
          "base_uri": "https://localhost:8080/"
        },
        "id": "SJtFJbFZ2lmC",
        "outputId": "7b4d4502-0090-4e94-c256-235c42b2ef02"
      },
      "execution_count": 15,
      "outputs": [
        {
          "output_type": "execute_result",
          "data": {
            "text/plain": [
              "(3250, 31)"
            ]
          },
          "metadata": {},
          "execution_count": 15
        }
      ]
    }
  ]
}